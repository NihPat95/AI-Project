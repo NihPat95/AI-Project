{
 "cells": [
  {
   "cell_type": "code",
   "execution_count": 1,
   "metadata": {},
   "outputs": [],
   "source": [
    "from nltk import word_tokenize\n",
    "import random"
   ]
  },
  {
   "cell_type": "code",
   "execution_count": 48,
   "metadata": {},
   "outputs": [],
   "source": [
    "filename = \"dataset/Alice in wonderland.txt\"\n",
    "sequenceLength = 1"
   ]
  },
  {
   "cell_type": "code",
   "execution_count": 49,
   "metadata": {},
   "outputs": [],
   "source": [
    "wordList = []\n",
    "tempMapping = {}\n",
    "mapping = {}"
   ]
  },
  {
   "cell_type": "code",
   "execution_count": 50,
   "metadata": {},
   "outputs": [],
   "source": [
    "with open(filename, 'r', encoding=\"utf8\") as f:\n",
    "    rawText = f.read().lower()\n",
    "wordList = word_tokenize(rawText)\n",
    "#print(wordList)"
   ]
  },
  {
   "cell_type": "code",
   "execution_count": 51,
   "metadata": {},
   "outputs": [],
   "source": [
    "def addItemToMapping(history, word):\n",
    "    while len(history) > 0:\n",
    "        first = tuple(history)\n",
    "        if first in tempMapping:\n",
    "            if word in tempMapping[first]:\n",
    "                tempMapping[first][word] = tempMapping[first][word] + 1.0\n",
    "            else:\n",
    "                tempMapping[first][word] = 1.0\n",
    "        else:\n",
    "            tempMapping[first] = {}\n",
    "            tempMapping[first][word] = 1.0\n",
    "        history = history[1:]"
   ]
  },
  {
   "cell_type": "code",
   "execution_count": 52,
   "metadata": {},
   "outputs": [],
   "source": [
    "def build():\n",
    "    for i in range(sequenceLength,len(wordList)-1):\n",
    "        history = wordList[i-sequenceLength:i]\n",
    "        follow = wordList[i+1]\n",
    "        addItemToMapping(history, follow)\n",
    "    #print(tempMapping)\n",
    "            "
   ]
  },
  {
   "cell_type": "code",
   "execution_count": 53,
   "metadata": {},
   "outputs": [],
   "source": [
    "build()"
   ]
  },
  {
   "cell_type": "code",
   "execution_count": 54,
   "metadata": {},
   "outputs": [],
   "source": [
    "def normalize():\n",
    "    for first, follow in iter(tempMapping.items()):\n",
    "        total = sum(follow.values())\n",
    "        mapping[first] = dict([(k,v/total) for k,v in iter(follow.items())])\n",
    "        \n",
    "    #print (mapping)"
   ]
  },
  {
   "cell_type": "code",
   "execution_count": 55,
   "metadata": {},
   "outputs": [],
   "source": [
    "normalize()"
   ]
  },
  {
   "cell_type": "code",
   "execution_count": 56,
   "metadata": {},
   "outputs": [],
   "source": [
    "def generateSentence():\n",
    "    sent = \"\"\n",
    "    lengthToGenerate = 20\n",
    "    curr = random.choice(wordList)\n",
    "    sent = sent + curr\n",
    "    prevList = [curr]\n",
    "    for i in range(1,lengthToGenerate):\n",
    "        curr = next(prevList)\n",
    "        prevList.append(curr)\n",
    "        sent = sent + \" \" + curr\n",
    "    \n",
    "    return sent\n",
    "    "
   ]
  },
  {
   "cell_type": "code",
   "execution_count": 57,
   "metadata": {},
   "outputs": [],
   "source": [
    "def next(prevList):\n",
    "    print(prevList)\n",
    "    sum = 0.0\n",
    "    retval = \"\"\n",
    "    index = random.random()\n",
    "    while tuple(prevList) not in mapping:\n",
    "        prevList.pop(0)\n",
    "    for k, v in iter(mapping[tuple(prevList)].items()):\n",
    "        sum += v\n",
    "        if sum >= index and retval == \"\":\n",
    "            retval = k\n",
    "    return retval"
   ]
  },
  {
   "cell_type": "code",
   "execution_count": 58,
   "metadata": {},
   "outputs": [
    {
     "name": "stdout",
     "output_type": "stream",
     "text": [
      "['tone']\n",
      "['tone', '‘']\n",
      "['‘', 'and']\n",
      "['and', 'bright']\n",
      "['bright', 'eager']\n",
      "['eager', 'many']\n",
      "['many', 'to']\n",
      "['to', '--']\n",
      "['--', 'constant']\n",
      "['constant', 'and']\n",
      "['and', 'as']\n",
      "['as', 'spoke']\n",
      "['spoke', 'and']\n",
      "['and', '--']\n",
      "['--', 'know']\n",
      "['know', 'any']\n",
      "['any', '!']\n",
      "['!', ',']\n",
      "[',', 'and']\n",
      "tone ‘ and bright eager many to -- constant and as spoke and -- know any ! , and ’\n"
     ]
    }
   ],
   "source": [
    "print(generateSentence())"
   ]
  }
 ],
 "metadata": {
  "kernelspec": {
   "display_name": "Python 3",
   "language": "python",
   "name": "python3"
  },
  "language_info": {
   "codemirror_mode": {
    "name": "ipython",
    "version": 3
   },
   "file_extension": ".py",
   "mimetype": "text/x-python",
   "name": "python",
   "nbconvert_exporter": "python",
   "pygments_lexer": "ipython3",
   "version": "3.6.3"
  }
 },
 "nbformat": 4,
 "nbformat_minor": 2
}
