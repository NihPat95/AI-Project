{
 "cells": [
  {
   "cell_type": "markdown",
   "metadata": {},
   "source": [
    "# Word to Vector\n",
    "A word to vector representation for game of thrones corpus"
   ]
  },
  {
   "cell_type": "code",
   "execution_count": 14,
   "metadata": {},
   "outputs": [],
   "source": [
    "import nltk\n",
    "from gensim.models import Word2Vec\n",
    "from gensim.models import KeyedVectors\n",
    "from nltk import word_tokenize\n",
    "from sklearn import decomposition\n",
    "from matplotlib import pyplot"
   ]
  },
  {
   "cell_type": "code",
   "execution_count": 24,
   "metadata": {},
   "outputs": [],
   "source": [
    "raw_file = open(\"./dataset.txt\", encoding=\"utf8\")\n",
    "content = raw_file.read()\n",
    "content = content.lower()"
   ]
  },
  {
   "cell_type": "code",
   "execution_count": 25,
   "metadata": {},
   "outputs": [],
   "source": [
    "sentences = nltk.sent_tokenize(content)\n",
    "tokenized = []\n",
    "for sentence in sentences:\n",
    "    tokenized.append(word_tokenize(sentence))\n"
   ]
  },
  {
   "cell_type": "code",
   "execution_count": 26,
   "metadata": {},
   "outputs": [],
   "source": [
    "model = Word2Vec(tokenized, size=100, window=5)\n",
    "words = list(model.wv.vocab)\n",
    "model.wv.save('model.bin')"
   ]
  },
  {
   "cell_type": "code",
   "execution_count": 27,
   "metadata": {},
   "outputs": [],
   "source": [
    "old_model = KeyedVectors.load('model.bin')"
   ]
  },
  {
   "cell_type": "code",
   "execution_count": 30,
   "metadata": {},
   "outputs": [
    {
     "data": {
      "text/plain": [
       "[('fleet', 0.8028091788291931),\n",
       " ('council', 0.7474859356880188),\n",
       " ('iron', 0.6971985101699829),\n",
       " ('seal', 0.6965718269348145),\n",
       " ('stag', 0.6947002410888672),\n",
       " ('seat', 0.680492103099823),\n",
       " ('islands', 0.6754752397537231),\n",
       " ('rebellion', 0.6729528307914734),\n",
       " ('heir', 0.6644230484962463),\n",
       " ('baelor', 0.6621502637863159)]"
      ]
     },
     "execution_count": 30,
     "metadata": {},
     "output_type": "execute_result"
    }
   ],
   "source": [
    "old_model.most_similar(positive=[\"throne\"])"
   ]
  },
  {
   "cell_type": "code",
   "execution_count": 49,
   "metadata": {},
   "outputs": [
    {
     "name": "stdout",
     "output_type": "stream",
     "text": [
      "[('tommen', 0.8262699842453003)]\n"
     ]
    }
   ],
   "source": [
    "result = old_model.most_similar(positive=[\"cersei\", \"joffrey\"], negative=[\"jaime\"], topn=1)\n",
    "print(result)"
   ]
  },
  {
   "cell_type": "code",
   "execution_count": 56,
   "metadata": {},
   "outputs": [
    {
     "name": "stdout",
     "output_type": "stream",
     "text": [
      "[('joffrey', 0.6913703680038452)]\n"
     ]
    }
   ],
   "source": [
    "result = old_model.most_similar(positive=[\"ned\", \"robb\"], negative=[\"jaime\"], topn=1)\n",
    "print(result)"
   ]
  },
  {
   "cell_type": "code",
   "execution_count": null,
   "metadata": {},
   "outputs": [],
   "source": []
  }
 ],
 "metadata": {
  "kernelspec": {
   "display_name": "Python 3",
   "language": "python",
   "name": "python3"
  },
  "language_info": {
   "codemirror_mode": {
    "name": "ipython",
    "version": 3
   },
   "file_extension": ".py",
   "mimetype": "text/x-python",
   "name": "python",
   "nbconvert_exporter": "python",
   "pygments_lexer": "ipython3",
   "version": "3.6.3"
  }
 },
 "nbformat": 4,
 "nbformat_minor": 2
}
