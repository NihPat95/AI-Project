{
 "cells": [
  {
   "cell_type": "code",
   "execution_count": 10,
   "metadata": {},
   "outputs": [
    {
     "name": "stdout",
     "output_type": "stream",
     "text": [
      "rologue “we should start back,” gared urged as the woods began to grow dark around them. “the wildlings are dead.” “do the dead frighten you?” ser waymar royce asked with just the hint of a smile. gared did not rise to the bait. he was an old man, past fifty, and he had seen the lordlings come and go. “dead is dead,” he said.\n"
     ]
    }
   ],
   "source": [
    "from nltk.tokenize import sent_tokenize, word_tokenize\n",
    "\n",
    "\n",
    "file = open(\"small dataset.txt\", encoding=\"utf8\")\n",
    "rawData = file.read().lower()\n",
    "print(rawData)"
   ]
  },
  {
   "cell_type": "code",
   "execution_count": 11,
   "metadata": {},
   "outputs": [
    {
     "name": "stdout",
     "output_type": "stream",
     "text": [
      "['rologue', '“', 'we', 'should', 'start', 'back', ',', '”', 'gared', 'urged', 'as', 'the', 'woods', 'began', 'to', 'grow', 'dark', 'around', 'them', '.', '“', 'the', 'wildlings', 'are', 'dead.', '”', '“', 'do', 'the', 'dead', 'frighten', 'you', '?', '”', 'ser', 'waymar', 'royce', 'asked', 'with', 'just', 'the', 'hint', 'of', 'a', 'smile', '.', 'gared', 'did', 'not', 'rise', 'to', 'the', 'bait', '.', 'he', 'was', 'an', 'old', 'man', ',', 'past', 'fifty', ',', 'and', 'he', 'had', 'seen', 'the', 'lordlings', 'come', 'and', 'go', '.', '“', 'dead', 'is', 'dead', ',', '”', 'he', 'said', '.']\n"
     ]
    }
   ],
   "source": [
    "wordList = word_tokenize(rawData)\n",
    "print(wordList)"
   ]
  },
  {
   "cell_type": "code",
   "execution_count": 12,
   "metadata": {},
   "outputs": [
    {
     "name": "stdout",
     "output_type": "stream",
     "text": [
      "[('the', 6), ('.', 5), ('“', 4), (',', 4), ('”', 4), ('dead', 3), ('he', 3), ('gared', 2), ('to', 2), ('and', 2), ('rologue', 1), ('we', 1), ('should', 1), ('start', 1), ('back', 1), ('urged', 1), ('as', 1), ('woods', 1), ('began', 1), ('grow', 1), ('dark', 1), ('around', 1), ('them', 1), ('wildlings', 1), ('are', 1), ('dead.', 1), ('do', 1), ('frighten', 1), ('you', 1), ('?', 1), ('ser', 1), ('waymar', 1), ('royce', 1), ('asked', 1), ('with', 1), ('just', 1), ('hint', 1), ('of', 1), ('a', 1), ('smile', 1), ('did', 1), ('not', 1), ('rise', 1), ('bait', 1), ('was', 1), ('an', 1), ('old', 1), ('man', 1), ('past', 1), ('fifty', 1), ('had', 1), ('seen', 1), ('lordlings', 1), ('come', 1), ('go', 1), ('is', 1), ('said', 1)]\n"
     ]
    }
   ],
   "source": [
    "from collections import Counter\n",
    "\n",
    "wordCounter = Counter(wordList)\n",
    "uniqueWords = wordCounter.most_common()\n",
    "print(uniqueWords)\n"
   ]
  },
  {
   "cell_type": "code",
   "execution_count": 17,
   "metadata": {},
   "outputs": [
    {
     "name": "stdout",
     "output_type": "stream",
     "text": [
      "['the', '.', '“', ',', '”', 'dead', 'he', 'gared', 'to', 'and', 'rologue', 'we', 'should', 'start', 'back', 'urged', 'as', 'woods', 'began', 'grow', 'dark', 'around', 'them', 'wildlings', 'are', 'dead.', 'do', 'frighten', 'you', '?', 'ser', 'waymar', 'royce', 'asked', 'with', 'just', 'hint', 'of', 'a', 'smile', 'did', 'not', 'rise', 'bait', 'was', 'an', 'old', 'man', 'past', 'fifty', 'had', 'seen', 'lordlings', 'come', 'go', 'is', 'said']\n"
     ]
    }
   ],
   "source": [
    "wordToIndex = [x[0] for x in uniqueWords]\n",
    "print(wordToIndex)"
   ]
  },
  {
   "cell_type": "code",
   "execution_count": 18,
   "metadata": {},
   "outputs": [
    {
     "name": "stdout",
     "output_type": "stream",
     "text": [
      "{'the': 0, '.': 1, '“': 2, ',': 3, '”': 4, 'dead': 5, 'he': 6, 'gared': 7, 'to': 8, 'and': 9, 'rologue': 10, 'we': 11, 'should': 12, 'start': 13, 'back': 14, 'urged': 15, 'as': 16, 'woods': 17, 'began': 18, 'grow': 19, 'dark': 20, 'around': 21, 'them': 22, 'wildlings': 23, 'are': 24, 'dead.': 25, 'do': 26, 'frighten': 27, 'you': 28, '?': 29, 'ser': 30, 'waymar': 31, 'royce': 32, 'asked': 33, 'with': 34, 'just': 35, 'hint': 36, 'of': 37, 'a': 38, 'smile': 39, 'did': 40, 'not': 41, 'rise': 42, 'bait': 43, 'was': 44, 'an': 45, 'old': 46, 'man': 47, 'past': 48, 'fifty': 49, 'had': 50, 'seen': 51, 'lordlings': 52, 'come': 53, 'go': 54, 'is': 55, 'said': 56}\n"
     ]
    }
   ],
   "source": [
    "indexToWord = {x: i for i, x in enumerate(wordToIndex)}\n",
    "print(indexToWord)\n"
   ]
  },
  {
   "cell_type": "code",
   "execution_count": 21,
   "metadata": {},
   "outputs": [],
   "source": [
    "VOCAB_SIZE = len(wordToIndex)\n"
   ]
  },
  {
   "cell_type": "code",
   "execution_count": 47,
   "metadata": {},
   "outputs": [],
   "source": [
    "import pickle\n",
    "with open(\"./vocab\", 'wb') as f:\n",
    "    pickle.dump((wordList, wordToIndex, indexToWord), f)"
   ]
  },
  {
   "cell_type": "code",
   "execution_count": 27,
   "metadata": {},
   "outputs": [
    {
     "name": "stdout",
     "output_type": "stream",
     "text": [
      "[['rologue', '“', 'we', 'should', 'start', 'back', ',', '”', 'gared', 'urged'], ['“', 'we', 'should', 'start', 'back', ',', '”', 'gared', 'urged', 'as'], ['we', 'should', 'start', 'back', ',', '”', 'gared', 'urged', 'as', 'the'], ['should', 'start', 'back', ',', '”', 'gared', 'urged', 'as', 'the', 'woods'], ['start', 'back', ',', '”', 'gared', 'urged', 'as', 'the', 'woods', 'began'], ['back', ',', '”', 'gared', 'urged', 'as', 'the', 'woods', 'began', 'to'], [',', '”', 'gared', 'urged', 'as', 'the', 'woods', 'began', 'to', 'grow'], ['”', 'gared', 'urged', 'as', 'the', 'woods', 'began', 'to', 'grow', 'dark'], ['gared', 'urged', 'as', 'the', 'woods', 'began', 'to', 'grow', 'dark', 'around'], ['urged', 'as', 'the', 'woods', 'began', 'to', 'grow', 'dark', 'around', 'them'], ['as', 'the', 'woods', 'began', 'to', 'grow', 'dark', 'around', 'them', '.'], ['the', 'woods', 'began', 'to', 'grow', 'dark', 'around', 'them', '.', '“'], ['woods', 'began', 'to', 'grow', 'dark', 'around', 'them', '.', '“', 'the'], ['began', 'to', 'grow', 'dark', 'around', 'them', '.', '“', 'the', 'wildlings'], ['to', 'grow', 'dark', 'around', 'them', '.', '“', 'the', 'wildlings', 'are'], ['grow', 'dark', 'around', 'them', '.', '“', 'the', 'wildlings', 'are', 'dead.'], ['dark', 'around', 'them', '.', '“', 'the', 'wildlings', 'are', 'dead.', '”'], ['around', 'them', '.', '“', 'the', 'wildlings', 'are', 'dead.', '”', '“'], ['them', '.', '“', 'the', 'wildlings', 'are', 'dead.', '”', '“', 'do'], ['.', '“', 'the', 'wildlings', 'are', 'dead.', '”', '“', 'do', 'the'], ['“', 'the', 'wildlings', 'are', 'dead.', '”', '“', 'do', 'the', 'dead'], ['the', 'wildlings', 'are', 'dead.', '”', '“', 'do', 'the', 'dead', 'frighten'], ['wildlings', 'are', 'dead.', '”', '“', 'do', 'the', 'dead', 'frighten', 'you'], ['are', 'dead.', '”', '“', 'do', 'the', 'dead', 'frighten', 'you', '?'], ['dead.', '”', '“', 'do', 'the', 'dead', 'frighten', 'you', '?', '”'], ['”', '“', 'do', 'the', 'dead', 'frighten', 'you', '?', '”', 'ser'], ['“', 'do', 'the', 'dead', 'frighten', 'you', '?', '”', 'ser', 'waymar'], ['do', 'the', 'dead', 'frighten', 'you', '?', '”', 'ser', 'waymar', 'royce'], ['the', 'dead', 'frighten', 'you', '?', '”', 'ser', 'waymar', 'royce', 'asked'], ['dead', 'frighten', 'you', '?', '”', 'ser', 'waymar', 'royce', 'asked', 'with'], ['frighten', 'you', '?', '”', 'ser', 'waymar', 'royce', 'asked', 'with', 'just'], ['you', '?', '”', 'ser', 'waymar', 'royce', 'asked', 'with', 'just', 'the'], ['?', '”', 'ser', 'waymar', 'royce', 'asked', 'with', 'just', 'the', 'hint'], ['”', 'ser', 'waymar', 'royce', 'asked', 'with', 'just', 'the', 'hint', 'of'], ['ser', 'waymar', 'royce', 'asked', 'with', 'just', 'the', 'hint', 'of', 'a'], ['waymar', 'royce', 'asked', 'with', 'just', 'the', 'hint', 'of', 'a', 'smile'], ['royce', 'asked', 'with', 'just', 'the', 'hint', 'of', 'a', 'smile', '.'], ['asked', 'with', 'just', 'the', 'hint', 'of', 'a', 'smile', '.', 'gared'], ['with', 'just', 'the', 'hint', 'of', 'a', 'smile', '.', 'gared', 'did'], ['just', 'the', 'hint', 'of', 'a', 'smile', '.', 'gared', 'did', 'not'], ['the', 'hint', 'of', 'a', 'smile', '.', 'gared', 'did', 'not', 'rise'], ['hint', 'of', 'a', 'smile', '.', 'gared', 'did', 'not', 'rise', 'to'], ['of', 'a', 'smile', '.', 'gared', 'did', 'not', 'rise', 'to', 'the'], ['a', 'smile', '.', 'gared', 'did', 'not', 'rise', 'to', 'the', 'bait'], ['smile', '.', 'gared', 'did', 'not', 'rise', 'to', 'the', 'bait', '.'], ['.', 'gared', 'did', 'not', 'rise', 'to', 'the', 'bait', '.', 'he'], ['gared', 'did', 'not', 'rise', 'to', 'the', 'bait', '.', 'he', 'was'], ['did', 'not', 'rise', 'to', 'the', 'bait', '.', 'he', 'was', 'an'], ['not', 'rise', 'to', 'the', 'bait', '.', 'he', 'was', 'an', 'old'], ['rise', 'to', 'the', 'bait', '.', 'he', 'was', 'an', 'old', 'man'], ['to', 'the', 'bait', '.', 'he', 'was', 'an', 'old', 'man', ','], ['the', 'bait', '.', 'he', 'was', 'an', 'old', 'man', ',', 'past'], ['bait', '.', 'he', 'was', 'an', 'old', 'man', ',', 'past', 'fifty'], ['.', 'he', 'was', 'an', 'old', 'man', ',', 'past', 'fifty', ','], ['he', 'was', 'an', 'old', 'man', ',', 'past', 'fifty', ',', 'and'], ['was', 'an', 'old', 'man', ',', 'past', 'fifty', ',', 'and', 'he'], ['an', 'old', 'man', ',', 'past', 'fifty', ',', 'and', 'he', 'had'], ['old', 'man', ',', 'past', 'fifty', ',', 'and', 'he', 'had', 'seen'], ['man', ',', 'past', 'fifty', ',', 'and', 'he', 'had', 'seen', 'the'], [',', 'past', 'fifty', ',', 'and', 'he', 'had', 'seen', 'the', 'lordlings'], ['past', 'fifty', ',', 'and', 'he', 'had', 'seen', 'the', 'lordlings', 'come'], ['fifty', ',', 'and', 'he', 'had', 'seen', 'the', 'lordlings', 'come', 'and'], [',', 'and', 'he', 'had', 'seen', 'the', 'lordlings', 'come', 'and', 'go'], ['and', 'he', 'had', 'seen', 'the', 'lordlings', 'come', 'and', 'go', '.'], ['he', 'had', 'seen', 'the', 'lordlings', 'come', 'and', 'go', '.', '“'], ['had', 'seen', 'the', 'lordlings', 'come', 'and', 'go', '.', '“', 'dead'], ['seen', 'the', 'lordlings', 'come', 'and', 'go', '.', '“', 'dead', 'is'], ['the', 'lordlings', 'come', 'and', 'go', '.', '“', 'dead', 'is', 'dead'], ['lordlings', 'come', 'and', 'go', '.', '“', 'dead', 'is', 'dead', ','], ['come', 'and', 'go', '.', '“', 'dead', 'is', 'dead', ',', '”'], ['and', 'go', '.', '“', 'dead', 'is', 'dead', ',', '”', 'he'], ['go', '.', '“', 'dead', 'is', 'dead', ',', '”', 'he', 'said']]\n",
      "['as', 'the', 'woods', 'began', 'to', 'grow', 'dark', 'around', 'them', '.', '“', 'the', 'wildlings', 'are', 'dead.', '”', '“', 'do', 'the', 'dead', 'frighten', 'you', '?', '”', 'ser', 'waymar', 'royce', 'asked', 'with', 'just', 'the', 'hint', 'of', 'a', 'smile', '.', 'gared', 'did', 'not', 'rise', 'to', 'the', 'bait', '.', 'he', 'was', 'an', 'old', 'man', ',', 'past', 'fifty', ',', 'and', 'he', 'had', 'seen', 'the', 'lordlings', 'come', 'and', 'go', '.', '“', 'dead', 'is', 'dead', ',', '”', 'he', 'said', '.']\n"
     ]
    }
   ],
   "source": [
    "SEQUENCE_LENGTH = 10\n",
    "SKIP_STEP = 1\n",
    "sequences = []\n",
    "nextWord = []\n",
    "for i in range(0, len(wordList) - SEQUENCE_LENGTH, SKIP_STEP):\n",
    "    sequences.append(wordList[i:i+SEQUENCE_LENGTH])\n",
    "    nextWord.append(wordList[i+SEQUENCE_LENGTH])\n",
    "\n",
    "NUMBER_OF_SEQUENCE = len(sequences)\n",
    "print(sequences)\n",
    "print(nextWord)"
   ]
  },
  {
   "cell_type": "code",
   "execution_count": 31,
   "metadata": {},
   "outputs": [
    {
     "name": "stdout",
     "output_type": "stream",
     "text": [
      "[[[False False False ... False False False]\n",
      "  [False False  True ... False False False]\n",
      "  [False False False ... False False False]\n",
      "  ...\n",
      "  [False False False ... False False False]\n",
      "  [False False False ... False False False]\n",
      "  [False False False ... False False False]]\n",
      "\n",
      " [[False False  True ... False False False]\n",
      "  [False False False ... False False False]\n",
      "  [False False False ... False False False]\n",
      "  ...\n",
      "  [False False False ... False False False]\n",
      "  [False False False ... False False False]\n",
      "  [False False False ... False False False]]\n",
      "\n",
      " [[False False False ... False False False]\n",
      "  [False False False ... False False False]\n",
      "  [False False False ... False False False]\n",
      "  ...\n",
      "  [False False False ... False False False]\n",
      "  [False False False ... False False False]\n",
      "  [ True False False ... False False False]]\n",
      "\n",
      " ...\n",
      "\n",
      " [[False False False ... False False False]\n",
      "  [False False False ... False False False]\n",
      "  [False False False ...  True False False]\n",
      "  ...\n",
      "  [False False False ... False False False]\n",
      "  [False False False ... False False False]\n",
      "  [False False False ... False False False]]\n",
      "\n",
      " [[False False False ... False False False]\n",
      "  [False False False ...  True False False]\n",
      "  [False  True False ... False False False]\n",
      "  ...\n",
      "  [False False False ... False False False]\n",
      "  [False False False ... False False False]\n",
      "  [False False False ... False False False]]\n",
      "\n",
      " [[False False False ...  True False False]\n",
      "  [False  True False ... False False False]\n",
      "  [False False  True ... False False False]\n",
      "  ...\n",
      "  [False False False ... False False False]\n",
      "  [False False False ... False False False]\n",
      "  [False False False ... False False  True]]]\n",
      "[[False False False ... False False False]\n",
      " [ True False False ... False False False]\n",
      " [False False False ... False False False]\n",
      " ...\n",
      " [False False False ... False False False]\n",
      " [False False False ... False False  True]\n",
      " [False  True False ... False False False]]\n"
     ]
    }
   ],
   "source": [
    "import numpy as np\n",
    "X = np.zeros((NUMBER_OF_SEQUENCE, SEQUENCE_LENGTH, VOCAB_SIZE), dtype=np.bool)\n",
    "y = np.zeros((NUMBER_OF_SEQUENCE, VOCAB_SIZE), dtype=np.bool)\n",
    "for i, sentence in enumerate(sequences):\n",
    "    for t, word in enumerate(sentence):\n",
    "        X[i,t,indexToWord[word]] = 1\n",
    "    y[i, indexToWord[nextWord[i]]] = 1\n",
    "print(X)\n",
    "print(y)"
   ]
  },
  {
   "cell_type": "code",
   "execution_count": 44,
   "metadata": {},
   "outputs": [],
   "source": [
    "from keras.models import Sequential, Model\n",
    "from keras.layers import Dense, Activation, Dropout\n",
    "from keras.layers import LSTM, Input, Bidirectional\n",
    "from keras.callbacks import ModelCheckpoint\n",
    "from keras.optimizers import Adam\n",
    "from keras.callbacks import EarlyStopping\n",
    "from keras.metrics import categorical_accuracy\n"
   ]
  },
  {
   "cell_type": "code",
   "execution_count": 40,
   "metadata": {},
   "outputs": [],
   "source": [
    "def bidirectionalLSTM(sequenceLength, vocabulorySize):\n",
    "    model = Sequential()\n",
    "    model.add(Bidirectional(LSTM(RNN_SIZE, activation=\"relu\"), input_shape=(sequenceLength, vocabulorySize)))\n",
    "    model.add(Dropout(0.6))\n",
    "    model.add(Dense(vocabulorySize))\n",
    "    model.add(Activation('softmax'))\n",
    "    optimizer = Adam(lr = LEARNING_RATE)\n",
    "    callbacks = [EarlyStopping(patience=2, monitor='val_loss')]\n",
    "    model.compile(loss='categorical_crossentropy', optimizer=optimizer, metrics=[categorical_accuracy])\n",
    "    return model"
   ]
  },
  {
   "cell_type": "code",
   "execution_count": 41,
   "metadata": {},
   "outputs": [
    {
     "name": "stdout",
     "output_type": "stream",
     "text": [
      "_________________________________________________________________\n",
      "Layer (type)                 Output Shape              Param #   \n",
      "=================================================================\n",
      "bidirectional_5 (Bidirection (None, 512)               643072    \n",
      "_________________________________________________________________\n",
      "dropout_5 (Dropout)          (None, 512)               0         \n",
      "_________________________________________________________________\n",
      "dense_2 (Dense)              (None, 57)                29241     \n",
      "_________________________________________________________________\n",
      "activation_2 (Activation)    (None, 57)                0         \n",
      "=================================================================\n",
      "Total params: 672,313\n",
      "Trainable params: 672,313\n",
      "Non-trainable params: 0\n",
      "_________________________________________________________________\n"
     ]
    }
   ],
   "source": [
    "RNN_SIZE = 256\n",
    "LEARNING_RATE = 0.001\n",
    "model = bidirectionalLSTM(SEQUENCE_LENGTH, VOCAB_SIZE)\n",
    "model.summary()"
   ]
  },
  {
   "cell_type": "code",
   "execution_count": 46,
   "metadata": {},
   "outputs": [
    {
     "name": "stdout",
     "output_type": "stream",
     "text": [
      "Train on 64 samples, validate on 8 samples\n",
      "Epoch 1/1\n",
      "64/64 [==============================] - 237s 4s/step - loss: 4.0420 - categorical_accuracy: 0.0000e+00 - val_loss: 4.0402 - val_categorical_accuracy: 0.0000e+00\n"
     ]
    }
   ],
   "source": [
    "EPOCH = 1\n",
    "BATCH_SIZE = 32\n",
    "VALIDATION = 0.1\n",
    "callbacks = [EarlyStopping(patience=4, monitor='val_loss'),\n",
    "            ModelCheckpoint(filepath='./checkpoint.{epoch:02d}-{val_loss:.2f}.hdf5', monitor='val_loss', period=2)]\n",
    "train = model.fit(X,y,batch_size=BATCH_SIZE,shuffle=True,epochs=EPOCH,callbacks=callbacks,validation_split=VALIDATION)\n",
    "model.save(\"./trainedModel\")"
   ]
  },
  {
   "cell_type": "code",
   "execution_count": 48,
   "metadata": {},
   "outputs": [],
   "source": [
    "with open(\"./vocab\",'rb') as file:\n",
    "    worldList, wordToIndex, indexToWord = pickle.load(file)\n",
    "    "
   ]
  },
  {
   "cell_type": "code",
   "execution_count": 49,
   "metadata": {},
   "outputs": [],
   "source": [
    "from keras.models import load_model\n",
    "model = load_model(\"./trainedModel\")"
   ]
  },
  {
   "cell_type": "code",
   "execution_count": 51,
   "metadata": {},
   "outputs": [],
   "source": [
    "def pick(prediciton, threshold=1.0):\n",
    "    prediciton = np.asarray(prediciton).astype('float64') \n",
    "    prediciton = np.log(prediciton) / threshold\n",
    "    predicitonE = np.exp(prediciton)\n",
    "    prediciton = predicitonE / np.sum(predicitonE)\n",
    "    return np.argmax(prediciton)"
   ]
  },
  {
   "cell_type": "code",
   "execution_count": null,
   "metadata": {},
   "outputs": [],
   "source": [
    "LENGTH_TO_GENERATE = 10\n",
    "INPUT_SENTENCE = \"He was an old man, past fifty, and he\"\n",
    "INPUT_SENTENCE = INPUT_SENTENCE.lower()\n",
    "OUTPUT = \"\"\n",
    "sentence = INPUT_SENTENCE.split()\n",
    "\n",
    "for word in enumerate(sentence):\n",
    "    try:\n",
    "        check = indexToWord[word]\n",
    "    except:\n",
    "        print(\"Word Not In Corpus {0}\",word)\n",
    "        exit()\n",
    "\n",
    "\n",
    "OUTPUT = OUTPUT + sentence\n",
    "for i in range(LENGTH_TO_GENERATE):\n",
    "    x = np.zeros((1, SEQUENCE_LENGTH, VOCAB_SIZE))\n",
    "    for t, word in enumerate(sentence):\n",
    "            x[0,t,indexToWord[word]] = 1\n",
    "\n",
    "    predict = model.predict(x)[0]\n",
    "    nextIndex = pick(predict,0.4)\n",
    "    nextWord = wordToIndex[nextIndex]\n",
    "    \n",
    "    OUTPUT = OUTPUT + \" \" + nextWord\n",
    "    sentence = sentence[1:] + [nextWord]\n",
    "    \n",
    "print OUTPUT"
   ]
  }
 ],
 "metadata": {
  "kernelspec": {
   "display_name": "Python 3",
   "language": "python",
   "name": "python3"
  },
  "language_info": {
   "codemirror_mode": {
    "name": "ipython",
    "version": 3
   },
   "file_extension": ".py",
   "mimetype": "text/x-python",
   "name": "python",
   "nbconvert_exporter": "python",
   "pygments_lexer": "ipython3",
   "version": "3.6.3"
  }
 },
 "nbformat": 4,
 "nbformat_minor": 2
}
